{
  "nbformat": 4,
  "nbformat_minor": 0,
  "metadata": {
    "colab": {
      "name": "Tesi.ipynb",
      "provenance": [],
      "collapsed_sections": [
        "Y5HF9CloEuUG",
        "VmRhKqjRE9WF",
        "jbDgG-WdFCD3",
        "3UyoBmGMTA7V"
      ],
      "authorship_tag": "ABX9TyMSF8f3hMaTc76FaFUVDfTP",
      "include_colab_link": true
    },
    "kernelspec": {
      "name": "python3",
      "display_name": "Python 3"
    },
    "language_info": {
      "name": "python"
    }
  },
  "cells": [
    {
      "cell_type": "markdown",
      "metadata": {
        "id": "view-in-github",
        "colab_type": "text"
      },
      "source": [
        "<a href=\"https://colab.research.google.com/github/3m4c/3m4c/blob/main/Tesi.ipynb\" target=\"_parent\"><img src=\"https://colab.research.google.com/assets/colab-badge.svg\" alt=\"Open In Colab\"/></a>"
      ]
    },
    {
      "cell_type": "code",
      "execution_count": null,
      "metadata": {
        "id": "YLfpX9daF79S"
      },
      "outputs": [],
      "source": [
        "import numpy as np\n",
        "import pandas as pd\n",
        "from sklearn.model_selection import train_test_split, StratifiedKFold\n",
        "from sklearn.feature_extraction.text import CountVectorizer, TfidfTransformer\n",
        "from sklearn.linear_model import SGDClassifier\n",
        "from sklearn.pipeline import Pipeline\n",
        "from sklearn import metrics\n",
        "import seaborn as sns"
      ]
    },
    {
      "cell_type": "code",
      "source": [
        "# loading the dataset\n",
        "df_master = pd.read_csv('/content/wsb_dataset.csv')"
      ],
      "metadata": {
        "id": "ycNK8oZkQVR7"
      },
      "execution_count": null,
      "outputs": []
    },
    {
      "cell_type": "markdown",
      "source": [
        "# Data pre-processing"
      ],
      "metadata": {
        "id": "Fkzp36fVDrZJ"
      }
    },
    {
      "cell_type": "code",
      "source": [
        "df = df_master.copy()"
      ],
      "metadata": {
        "id": "NGV6z3ejsiVJ"
      },
      "execution_count": 33,
      "outputs": []
    },
    {
      "cell_type": "code",
      "source": [
        "# creating a list of stocks that we need to eliminate from the posts\n",
        "# we do this to reduce bias: if GME posts are mostly bullish, the model will recognize the word 'GME' as bullish\n",
        "\n",
        "# there are some stock symbols that are also normal words: we will leave them in the posts\n",
        "not_symbols = ['DD', 'IS', 'A', 'BUY', 'ARE', 'ALL', \n",
        "              'GOOD', 'GAIN', 'WANT', 'HAS', 'KNOW',\n",
        "              'GO', 'HOLD', 'AM', 'TOO', 'ONE', 'SEE', 'JOB',\n",
        "              'IT', 'SEND', 'ATH', 'TALK', 'LOW', 'BY', 'SHIP',\n",
        "              'REAL', 'IRL', 'PLUS', 'NEW', 'USD', 'YOLO', 'MUST',\n",
        "              'U', 'PAYS', 'CEO', 'OLD', 'YOU', 'FOR', 'MOON', 'TELL',\n",
        "              'WELL', 'ON', 'NOW', 'EVER', 'UP', 'AT', 'LIFE', 'JUST', 'BOIL',\n",
        "              'FUND', 'LOAN', 'IMO', 'PT', 'BIG', 'BE', 'OPEN', 'PLAY', 'TA', 'IPO', \n",
        "              'FUD', 'BOND', 'CAN', 'FAIL', 'AWAY', 'FOMO', 'HEAR', 'VIEW', 'BEST', 'VERY',\n",
        "              'MOVE', 'AIR', 'EAT', 'TRUE', 'DEEP', 'DAWN', 'RISE', 'CENT', 'LOVE', 'MIND', 'TEAM',\n",
        "              'POST', 'COST', 'DATA', 'VOTE', 'STAY', 'NEXT', 'CASH', 'LACK', 'NEAR', 'COOL', 'ONCE', 'MASS',\n",
        "              'SENT', 'HOPE', 'NEED', 'ELSE', 'PAY', 'APP', 'MAX', 'EPS', 'MID', 'OIL', 'VS', 'OR', 'MF', 'PLAN', \n",
        "              'PICK', 'EARN', 'INFO', 'SUM']\n",
        "\n",
        "symbols = list(df.stock_symbol.unique())\n",
        "symbols = list(set(symbols) - set(not_symbols))\n",
        "symbols = sorted(symbols, key= len, reverse = True)\n",
        "\n",
        "# this passage is needed to properly eliminate substrings from the posts\n",
        "long_symbols = [symbol for symbol in symbols if len(symbol) > 2]\n",
        "short_symbols = [ ' {} '.format(symbol) for symbol in symbols if len(symbols) < 3]"
      ],
      "metadata": {
        "id": "ej0ExRpdxN7c"
      },
      "execution_count": 34,
      "outputs": []
    },
    {
      "cell_type": "code",
      "source": [
        "# preparing the dataset\n",
        "\n",
        "# we replace NaN values with an empty string ('')\n",
        "df.replace(['[deleted]', '[removed]'], ['', ''], inplace = True)\n",
        "df.fillna('', inplace = True)\n",
        "\n",
        "# we merge the three predictors (title, body and flair) into one\n",
        "df['text'] = df.title + ' ' + df.body + ' ' + df.flair\n",
        "df.drop(columns = ['title', 'body', 'flair'], inplace = True)\n",
        "\n",
        "# the model is not good at recognizing bearish posts because we lack bearish training data:\n",
        "# it make more sense for our purpose to just distinguish between bullish and non-bullish posts\n",
        "df['sentiment'].replace(['controversial', 'bearish', 'neutral'], 'not bullish', inplace = True)"
      ],
      "metadata": {
        "id": "kSXyPq9fZnRc"
      },
      "execution_count": 35,
      "outputs": []
    },
    {
      "cell_type": "code",
      "source": [
        "# cleaning text\n",
        "df.text = df.text.replace('$', '', regex = True)\n",
        "df.text = df.text.replace('[^\\w\\s]', '', regex = True)\n",
        "df.text = df.text.replace(long_symbols, '', regex = True)\n",
        "df.text = df.text.replace(short_symbols, ' ', regex = True)"
      ],
      "metadata": {
        "id": "vEYt_0LY997e"
      },
      "execution_count": 36,
      "outputs": []
    },
    {
      "cell_type": "code",
      "source": [
        "# it's better to shorten posts that are too long (usually Due Diligences)\n",
        "# we do it by removing the central part\n",
        "def removecentre(row):\n",
        "  words = row.split()\n",
        "  if len(words) > 500:\n",
        "    row = words[:250] + words[-250:]\n",
        "    row = ' '.join(row)\n",
        "  return row \n",
        "\n",
        "df.text = df.text.apply(removecentre)"
      ],
      "metadata": {
        "id": "GBTb62TaMzSr"
      },
      "execution_count": 37,
      "outputs": []
    },
    {
      "cell_type": "code",
      "source": [
        "'''\n",
        "#stemming words makes the algorithm worse\n",
        "import nltk.stem\n",
        "\n",
        "def stemrow(row):\n",
        "  stemmer = nltk.stem.SnowballStemmer('english')\n",
        "  words = row.split()\n",
        "  new_row = []\n",
        "  for word in words:\n",
        "    new_row.append(stemmer.stem(word))\n",
        "  new_row_str = ' '.join(map(str, new_row))\n",
        "  return new_row_str\n",
        "\n",
        "df.text = df.text.apply(stemrow)\n",
        "'''"
      ],
      "metadata": {
        "colab": {
          "base_uri": "https://localhost:8080/",
          "height": 1000
        },
        "id": "0wU2ZR66UnK0",
        "outputId": "e8aa0d9c-2732-401d-c512-7d60bc113d2b"
      },
      "execution_count": 38,
      "outputs": [
        {
          "output_type": "execute_result",
          "data": {
            "text/plain": [
              "\"\\n#stemming words makes the algorithm worse\\nimport nltk.stem\\n\\ndef stemrow(row):\\n  stemmer = nltk.stem.SnowballStemmer('english')\\n  words = row.split()\\n  new_row = []\\n  for word in words:\\n    new_row.append(stemmer.stem(word))\\n  new_row_str = ' '.join(map(str, new_row))\\n  return new_row_str\\n\\ndf.text = df.text.apply(stemrow)\\n\""
            ],
            "application/vnd.google.colaboratory.intrinsic+json": {
              "type": "string"
            }
          },
          "metadata": {},
          "execution_count": 38
        }
      ]
    },
    {
      "cell_type": "code",
      "source": [
        "'''\n",
        "#what about lemmatizing?\n",
        "#it doesn't work either\n",
        "import nltk\n",
        "nltk.download('wordnet')\n",
        "from nltk.stem import WordNetLemmatizer\n",
        "\n",
        "def lemrow(row):\n",
        "  lemmatizer = WordNetLemmatizer()\n",
        "  words = row.split()\n",
        "  new_row = []\n",
        "  for word in words:\n",
        "    new_word = lemmatizer.lemmatize(word, 'v')\n",
        "    new_row.append(new_word)\n",
        "  new_row_str = ' '.join(map(str, new_row))\n",
        "  return new_row_str\n",
        "\n",
        "df.text = df.text.apply(lambda x: x.lower())\n",
        "df.text = df.text.apply(lemrow)\n",
        "'''"
      ],
      "metadata": {
        "colab": {
          "base_uri": "https://localhost:8080/",
          "height": 1000
        },
        "id": "4Hw954EykiNa",
        "outputId": "a0e68f39-aaaf-4ba1-dc35-b1e79212f316"
      },
      "execution_count": 39,
      "outputs": [
        {
          "output_type": "execute_result",
          "data": {
            "text/plain": [
              "\"\\n#what about lemmatizing?\\n#it doesn't work either\\nimport nltk\\nnltk.download('wordnet')\\nfrom nltk.stem import WordNetLemmatizer\\n\\ndef lemrow(row):\\n  lemmatizer = WordNetLemmatizer()\\n  words = row.split()\\n  new_row = []\\n  for word in words:\\n    new_word = lemmatizer.lemmatize(word, 'v')\\n    new_row.append(new_word)\\n  new_row_str = ' '.join(map(str, new_row))\\n  return new_row_str\\n\\ndf.text = df.text.apply(lambda x: x.lower())\\ndf.text = df.text.apply(lemrow)\\n\""
            ],
            "application/vnd.google.colaboratory.intrinsic+json": {
              "type": "string"
            }
          },
          "metadata": {},
          "execution_count": 39
        }
      ]
    },
    {
      "cell_type": "markdown",
      "source": [
        "# Supervised learning"
      ],
      "metadata": {
        "id": "D36CxhB0Ez6H"
      }
    },
    {
      "cell_type": "markdown",
      "source": [
        "## SGDClassifier"
      ],
      "metadata": {
        "id": "WFl5dlUOEaFo"
      }
    },
    {
      "cell_type": "code",
      "source": [
        "# creating a pipeline\n",
        "# using CountVectorizer to convert text documents to a matrix of token counts,\n",
        "# with both monograms and bigrams as tokens\n",
        "# using TfidTransformer to scale down the impact of tokens that occur very frequently\n",
        "# using the SGDClassifier model to train the data\n",
        "\n",
        "text_clf = Pipeline([\n",
        "     ('vect', CountVectorizer(ngram_range=(1,2))),\n",
        "     ('tfidf', TfidfTransformer()), #we could also use TfidfVectorizer and save one passage\n",
        "     ('clf', SGDClassifier(loss='hinge', penalty='l2',\n",
        "                           alpha=0.00001, random_state = 2,\n",
        "                           max_iter=6, tol=None, n_jobs = -1,\n",
        "                           early_stopping = True, validation_fraction = .1\n",
        "                           ))\n",
        "])"
      ],
      "metadata": {
        "id": "19Ze6XcDPyYA"
      },
      "execution_count": 40,
      "outputs": []
    },
    {
      "cell_type": "code",
      "source": [
        "# first we take only the labelled posts\n",
        "training = df[df['is_train'] == True]\n",
        "X, y = training['text'], training['sentiment']"
      ],
      "metadata": {
        "id": "vq8HQf_U0T_q"
      },
      "execution_count": 41,
      "outputs": []
    },
    {
      "cell_type": "code",
      "source": [
        "# performing (stratified) K-fold cross validation\n",
        "skf = StratifiedKFold(n_splits=5, shuffle=True, random_state=1)\n",
        "\n",
        "for train_index, test_index in skf.split(X, y):\n",
        "\n",
        "  X_train = np.array(X.iloc[train_index]).flatten() # reshaping the input data\n",
        "  X_test = np.array(X.iloc[test_index]).flatten()\n",
        "  y_train = y.iloc[train_index]\n",
        "  y_test = y.iloc[test_index]\n",
        "    \n",
        "  # fitting the model to the training data\n",
        "  text_clf.fit(X_train, y_train)\n",
        "\n",
        "  # predicting the test labels using the trained model on the test features\n",
        "  predicted = text_clf.predict(X_test)\n",
        "\n",
        "  # printing the metrics\n",
        "  print(metrics.classification_report(y_test, predicted))"
      ],
      "metadata": {
        "id": "CQNhrkofzXMs",
        "colab": {
          "base_uri": "https://localhost:8080/"
        },
        "outputId": "190cc413-882b-41b3-ab2c-1e9faf513ac4"
      },
      "execution_count": 42,
      "outputs": [
        {
          "output_type": "stream",
          "name": "stdout",
          "text": [
            "              precision    recall  f1-score   support\n",
            "\n",
            "     bullish       0.76      0.79      0.77       130\n",
            " not bullish       0.76      0.72      0.74       117\n",
            "\n",
            "    accuracy                           0.76       247\n",
            "   macro avg       0.76      0.76      0.76       247\n",
            "weighted avg       0.76      0.76      0.76       247\n",
            "\n",
            "              precision    recall  f1-score   support\n",
            "\n",
            "     bullish       0.75      0.80      0.77       130\n",
            " not bullish       0.76      0.70      0.73       116\n",
            "\n",
            "    accuracy                           0.75       246\n",
            "   macro avg       0.75      0.75      0.75       246\n",
            "weighted avg       0.75      0.75      0.75       246\n",
            "\n",
            "              precision    recall  f1-score   support\n",
            "\n",
            "     bullish       0.75      0.82      0.78       130\n",
            " not bullish       0.77      0.69      0.73       116\n",
            "\n",
            "    accuracy                           0.76       246\n",
            "   macro avg       0.76      0.75      0.75       246\n",
            "weighted avg       0.76      0.76      0.75       246\n",
            "\n",
            "              precision    recall  f1-score   support\n",
            "\n",
            "     bullish       0.76      0.84      0.80       130\n",
            " not bullish       0.79      0.70      0.74       116\n",
            "\n",
            "    accuracy                           0.77       246\n",
            "   macro avg       0.78      0.77      0.77       246\n",
            "weighted avg       0.77      0.77      0.77       246\n",
            "\n",
            "              precision    recall  f1-score   support\n",
            "\n",
            "     bullish       0.71      0.84      0.77       130\n",
            " not bullish       0.77      0.61      0.68       116\n",
            "\n",
            "    accuracy                           0.73       246\n",
            "   macro avg       0.74      0.73      0.73       246\n",
            "weighted avg       0.74      0.73      0.73       246\n",
            "\n"
          ]
        }
      ]
    },
    {
      "cell_type": "code",
      "source": [
        "# final model\n",
        "\n",
        "# creating train and test\n",
        "X_train, X_test, y_train, y_test = train_test_split(training['text'], training['sentiment'], test_size = .15, \n",
        "                                                    random_state = 3, stratify = training['sentiment'])\n",
        "\n",
        "text_clf.fit(X_train, y_train)\n",
        "predicted = text_clf.predict(X_test)\n",
        "print(metrics.classification_report(y_test, predicted))\n",
        "\n",
        "# we use the model to label the other posts in the dataset\n",
        "df_to_predict = df[df['is_train'] == False]\n",
        "labels = text_clf.predict(df_to_predict['text'])\n",
        "\n",
        "# lastly, we recompose the dataset with the labelled posts\n",
        "df_final = df_master.copy()\n",
        "df_final.loc[lambda x: df_final['is_train'] == False, 'sentiment'] = labels\n",
        "\n",
        "# and we change the labels\n",
        "df_final['sentiment'].replace(['controversial', 'bearish', 'neutral'], 'not bullish', inplace = True)"
      ],
      "metadata": {
        "id": "lPnDDtVgzb70",
        "colab": {
          "base_uri": "https://localhost:8080/"
        },
        "outputId": "ffb95311-4515-435a-a0f1-84293438a8c0"
      },
      "execution_count": 43,
      "outputs": [
        {
          "output_type": "stream",
          "name": "stdout",
          "text": [
            "              precision    recall  f1-score   support\n",
            "\n",
            "     bullish       0.84      0.81      0.82        98\n",
            " not bullish       0.79      0.83      0.81        87\n",
            "\n",
            "    accuracy                           0.82       185\n",
            "   macro avg       0.82      0.82      0.82       185\n",
            "weighted avg       0.82      0.82      0.82       185\n",
            "\n"
          ]
        }
      ]
    },
    {
      "cell_type": "markdown",
      "source": [
        "# File export"
      ],
      "metadata": {
        "id": "YbJECgWdisrR"
      }
    },
    {
      "cell_type": "code",
      "source": [
        "# exporting the dataset as a csv file\n",
        "df_final.to_csv('wsb_dataset_2.csv', sep=';')"
      ],
      "metadata": {
        "id": "M2sPBkupe8cA"
      },
      "execution_count": null,
      "outputs": []
    },
    {
      "cell_type": "markdown",
      "source": [
        "# Data visualization"
      ],
      "metadata": {
        "id": "0bY5XPUQiaUE"
      }
    },
    {
      "cell_type": "code",
      "source": [
        "print(df_final['stock_symbol'].value_counts()[:20])"
      ],
      "metadata": {
        "colab": {
          "base_uri": "https://localhost:8080/"
        },
        "id": "L1L_iIUBin0X",
        "outputId": "64bd7fbb-e4da-4111-9a3f-6445c444db3b"
      },
      "execution_count": null,
      "outputs": [
        {
          "output_type": "execute_result",
          "data": {
            "text/plain": [
              "GME     1396\n",
              "AMC      505\n",
              "BB       396\n",
              "A        254\n",
              "HOLD     228\n",
              "YOLO     191\n",
              "YOU      141\n",
              "IS       133\n",
              "DD       130\n",
              "CLOV     118\n",
              "BUY      102\n",
              "ARE       92\n",
              "FOR       90\n",
              "WISH      88\n",
              "MOON      83\n",
              "UWMC      83\n",
              "CLNE      82\n",
              "NOK       78\n",
              "ON        75\n",
              "ALL       75\n",
              "Name: stock_symbol, dtype: int64"
            ]
          },
          "metadata": {},
          "execution_count": 23
        }
      ]
    },
    {
      "cell_type": "code",
      "source": [
        "stock_list = ['GME', 'AMC', 'CLOV', 'WISH', 'UWMC', 'CLNE', 'NOK']"
      ],
      "metadata": {
        "id": "boJnVqEGh79v"
      },
      "execution_count": null,
      "outputs": []
    },
    {
      "cell_type": "code",
      "source": [
        "df_final['dt'] = pd.to_datetime(df_final['dt'])"
      ],
      "metadata": {
        "id": "C4zuMwmquNy9"
      },
      "execution_count": null,
      "outputs": []
    },
    {
      "cell_type": "code",
      "source": [
        "gme = df_final[(df_final['dt'] < '2021-02-03') & (df_final['stock_symbol'] == 'GME')]\n",
        "gme = gme[['dt', 'sentiment']]\n",
        "dummies = pd.get_dummies(gme, columns = ['sentiment'])\n",
        "gme = pd.concat([gme['dt'], dummies.iloc[:, 1:]], axis = 1).set_index('dt')"
      ],
      "metadata": {
        "id": "YtTcub_blOsF"
      },
      "execution_count": null,
      "outputs": []
    },
    {
      "cell_type": "code",
      "source": [
        "print(gme)"
      ],
      "metadata": {
        "colab": {
          "base_uri": "https://localhost:8080/"
        },
        "id": "yWYG6oQtxAWl",
        "outputId": "4403eca6-98e4-40c4-d5b1-b887a6e2ddfe"
      },
      "execution_count": null,
      "outputs": [
        {
          "output_type": "stream",
          "name": "stdout",
          "text": [
            "                     sentiment_bullish  sentiment_not bullish\n",
            "dt                                                           \n",
            "2021-01-29 21:30:24                  1                      0\n",
            "2021-02-02 22:49:24                  1                      0\n",
            "2021-01-28 10:40:08                  0                      1\n",
            "2021-02-01 18:25:01                  1                      0\n",
            "2021-01-29 03:33:45                  1                      0\n",
            "...                                ...                    ...\n",
            "2021-01-05 15:44:03                  0                      1\n",
            "2021-01-04 19:52:00                  0                      1\n",
            "2021-01-04 16:11:52                  1                      0\n",
            "2021-01-04 09:50:17                  1                      0\n",
            "2021-01-05 14:37:43                  0                      1\n",
            "\n",
            "[1020 rows x 2 columns]\n"
          ]
        }
      ]
    },
    {
      "cell_type": "code",
      "source": [
        "df_counts = gme.resample('D').sum()"
      ],
      "metadata": {
        "id": "EP1vHe78qUGd"
      },
      "execution_count": null,
      "outputs": []
    },
    {
      "cell_type": "code",
      "source": [
        "df_counts"
      ],
      "metadata": {
        "colab": {
          "base_uri": "https://localhost:8080/",
          "height": 1000
        },
        "id": "JsQ4aU3Mq0Jf",
        "outputId": "e01d3ed4-995f-420e-9434-172577b2ab9c"
      },
      "execution_count": null,
      "outputs": [
        {
          "output_type": "execute_result",
          "data": {
            "text/plain": [
              "            sentiment_bullish  sentiment_not bullish\n",
              "dt                                                  \n",
              "2021-01-04                  2                      2\n",
              "2021-01-05                  3                      7\n",
              "2021-01-06                  1                      1\n",
              "2021-01-07                  1                      1\n",
              "2021-01-08                  0                      2\n",
              "2021-01-09                  0                      1\n",
              "2021-01-10                  1                      0\n",
              "2021-01-11                  5                      4\n",
              "2021-01-12                  2                      0\n",
              "2021-01-13                 14                     17\n",
              "2021-01-14                 15                     10\n",
              "2021-01-15                 11                     12\n",
              "2021-01-16                 10                      4\n",
              "2021-01-17                  9                      7\n",
              "2021-01-18                 10                     10\n",
              "2021-01-19                 17                     10\n",
              "2021-01-20                 12                      9\n",
              "2021-01-21                  9                     10\n",
              "2021-01-22                 17                     13\n",
              "2021-01-23                 12                      8\n",
              "2021-01-24                 10                      6\n",
              "2021-01-25                 20                     20\n",
              "2021-01-26                 15                     12\n",
              "2021-01-27                 37                     20\n",
              "2021-01-28                 38                     48\n",
              "2021-01-29                 47                     54\n",
              "2021-01-30                 37                     20\n",
              "2021-01-31                 34                     25\n",
              "2021-02-01                 45                     31\n",
              "2021-02-02                 92                    130"
            ],
            "text/html": [
              "\n",
              "  <div id=\"df-d3218a7b-3a05-477f-bbed-5c02bae1eeaf\">\n",
              "    <div class=\"colab-df-container\">\n",
              "      <div>\n",
              "<style scoped>\n",
              "    .dataframe tbody tr th:only-of-type {\n",
              "        vertical-align: middle;\n",
              "    }\n",
              "\n",
              "    .dataframe tbody tr th {\n",
              "        vertical-align: top;\n",
              "    }\n",
              "\n",
              "    .dataframe thead th {\n",
              "        text-align: right;\n",
              "    }\n",
              "</style>\n",
              "<table border=\"1\" class=\"dataframe\">\n",
              "  <thead>\n",
              "    <tr style=\"text-align: right;\">\n",
              "      <th></th>\n",
              "      <th>sentiment_bullish</th>\n",
              "      <th>sentiment_not bullish</th>\n",
              "    </tr>\n",
              "    <tr>\n",
              "      <th>dt</th>\n",
              "      <th></th>\n",
              "      <th></th>\n",
              "    </tr>\n",
              "  </thead>\n",
              "  <tbody>\n",
              "    <tr>\n",
              "      <th>2021-01-04</th>\n",
              "      <td>2</td>\n",
              "      <td>2</td>\n",
              "    </tr>\n",
              "    <tr>\n",
              "      <th>2021-01-05</th>\n",
              "      <td>3</td>\n",
              "      <td>7</td>\n",
              "    </tr>\n",
              "    <tr>\n",
              "      <th>2021-01-06</th>\n",
              "      <td>1</td>\n",
              "      <td>1</td>\n",
              "    </tr>\n",
              "    <tr>\n",
              "      <th>2021-01-07</th>\n",
              "      <td>1</td>\n",
              "      <td>1</td>\n",
              "    </tr>\n",
              "    <tr>\n",
              "      <th>2021-01-08</th>\n",
              "      <td>0</td>\n",
              "      <td>2</td>\n",
              "    </tr>\n",
              "    <tr>\n",
              "      <th>2021-01-09</th>\n",
              "      <td>0</td>\n",
              "      <td>1</td>\n",
              "    </tr>\n",
              "    <tr>\n",
              "      <th>2021-01-10</th>\n",
              "      <td>1</td>\n",
              "      <td>0</td>\n",
              "    </tr>\n",
              "    <tr>\n",
              "      <th>2021-01-11</th>\n",
              "      <td>5</td>\n",
              "      <td>4</td>\n",
              "    </tr>\n",
              "    <tr>\n",
              "      <th>2021-01-12</th>\n",
              "      <td>2</td>\n",
              "      <td>0</td>\n",
              "    </tr>\n",
              "    <tr>\n",
              "      <th>2021-01-13</th>\n",
              "      <td>14</td>\n",
              "      <td>17</td>\n",
              "    </tr>\n",
              "    <tr>\n",
              "      <th>2021-01-14</th>\n",
              "      <td>15</td>\n",
              "      <td>10</td>\n",
              "    </tr>\n",
              "    <tr>\n",
              "      <th>2021-01-15</th>\n",
              "      <td>11</td>\n",
              "      <td>12</td>\n",
              "    </tr>\n",
              "    <tr>\n",
              "      <th>2021-01-16</th>\n",
              "      <td>10</td>\n",
              "      <td>4</td>\n",
              "    </tr>\n",
              "    <tr>\n",
              "      <th>2021-01-17</th>\n",
              "      <td>9</td>\n",
              "      <td>7</td>\n",
              "    </tr>\n",
              "    <tr>\n",
              "      <th>2021-01-18</th>\n",
              "      <td>10</td>\n",
              "      <td>10</td>\n",
              "    </tr>\n",
              "    <tr>\n",
              "      <th>2021-01-19</th>\n",
              "      <td>17</td>\n",
              "      <td>10</td>\n",
              "    </tr>\n",
              "    <tr>\n",
              "      <th>2021-01-20</th>\n",
              "      <td>12</td>\n",
              "      <td>9</td>\n",
              "    </tr>\n",
              "    <tr>\n",
              "      <th>2021-01-21</th>\n",
              "      <td>9</td>\n",
              "      <td>10</td>\n",
              "    </tr>\n",
              "    <tr>\n",
              "      <th>2021-01-22</th>\n",
              "      <td>17</td>\n",
              "      <td>13</td>\n",
              "    </tr>\n",
              "    <tr>\n",
              "      <th>2021-01-23</th>\n",
              "      <td>12</td>\n",
              "      <td>8</td>\n",
              "    </tr>\n",
              "    <tr>\n",
              "      <th>2021-01-24</th>\n",
              "      <td>10</td>\n",
              "      <td>6</td>\n",
              "    </tr>\n",
              "    <tr>\n",
              "      <th>2021-01-25</th>\n",
              "      <td>20</td>\n",
              "      <td>20</td>\n",
              "    </tr>\n",
              "    <tr>\n",
              "      <th>2021-01-26</th>\n",
              "      <td>15</td>\n",
              "      <td>12</td>\n",
              "    </tr>\n",
              "    <tr>\n",
              "      <th>2021-01-27</th>\n",
              "      <td>37</td>\n",
              "      <td>20</td>\n",
              "    </tr>\n",
              "    <tr>\n",
              "      <th>2021-01-28</th>\n",
              "      <td>38</td>\n",
              "      <td>48</td>\n",
              "    </tr>\n",
              "    <tr>\n",
              "      <th>2021-01-29</th>\n",
              "      <td>47</td>\n",
              "      <td>54</td>\n",
              "    </tr>\n",
              "    <tr>\n",
              "      <th>2021-01-30</th>\n",
              "      <td>37</td>\n",
              "      <td>20</td>\n",
              "    </tr>\n",
              "    <tr>\n",
              "      <th>2021-01-31</th>\n",
              "      <td>34</td>\n",
              "      <td>25</td>\n",
              "    </tr>\n",
              "    <tr>\n",
              "      <th>2021-02-01</th>\n",
              "      <td>45</td>\n",
              "      <td>31</td>\n",
              "    </tr>\n",
              "    <tr>\n",
              "      <th>2021-02-02</th>\n",
              "      <td>92</td>\n",
              "      <td>130</td>\n",
              "    </tr>\n",
              "  </tbody>\n",
              "</table>\n",
              "</div>\n",
              "      <button class=\"colab-df-convert\" onclick=\"convertToInteractive('df-d3218a7b-3a05-477f-bbed-5c02bae1eeaf')\"\n",
              "              title=\"Convert this dataframe to an interactive table.\"\n",
              "              style=\"display:none;\">\n",
              "        \n",
              "  <svg xmlns=\"http://www.w3.org/2000/svg\" height=\"24px\"viewBox=\"0 0 24 24\"\n",
              "       width=\"24px\">\n",
              "    <path d=\"M0 0h24v24H0V0z\" fill=\"none\"/>\n",
              "    <path d=\"M18.56 5.44l.94 2.06.94-2.06 2.06-.94-2.06-.94-.94-2.06-.94 2.06-2.06.94zm-11 1L8.5 8.5l.94-2.06 2.06-.94-2.06-.94L8.5 2.5l-.94 2.06-2.06.94zm10 10l.94 2.06.94-2.06 2.06-.94-2.06-.94-.94-2.06-.94 2.06-2.06.94z\"/><path d=\"M17.41 7.96l-1.37-1.37c-.4-.4-.92-.59-1.43-.59-.52 0-1.04.2-1.43.59L10.3 9.45l-7.72 7.72c-.78.78-.78 2.05 0 2.83L4 21.41c.39.39.9.59 1.41.59.51 0 1.02-.2 1.41-.59l7.78-7.78 2.81-2.81c.8-.78.8-2.07 0-2.86zM5.41 20L4 18.59l7.72-7.72 1.47 1.35L5.41 20z\"/>\n",
              "  </svg>\n",
              "      </button>\n",
              "      \n",
              "  <style>\n",
              "    .colab-df-container {\n",
              "      display:flex;\n",
              "      flex-wrap:wrap;\n",
              "      gap: 12px;\n",
              "    }\n",
              "\n",
              "    .colab-df-convert {\n",
              "      background-color: #E8F0FE;\n",
              "      border: none;\n",
              "      border-radius: 50%;\n",
              "      cursor: pointer;\n",
              "      display: none;\n",
              "      fill: #1967D2;\n",
              "      height: 32px;\n",
              "      padding: 0 0 0 0;\n",
              "      width: 32px;\n",
              "    }\n",
              "\n",
              "    .colab-df-convert:hover {\n",
              "      background-color: #E2EBFA;\n",
              "      box-shadow: 0px 1px 2px rgba(60, 64, 67, 0.3), 0px 1px 3px 1px rgba(60, 64, 67, 0.15);\n",
              "      fill: #174EA6;\n",
              "    }\n",
              "\n",
              "    [theme=dark] .colab-df-convert {\n",
              "      background-color: #3B4455;\n",
              "      fill: #D2E3FC;\n",
              "    }\n",
              "\n",
              "    [theme=dark] .colab-df-convert:hover {\n",
              "      background-color: #434B5C;\n",
              "      box-shadow: 0px 1px 3px 1px rgba(0, 0, 0, 0.15);\n",
              "      filter: drop-shadow(0px 1px 2px rgba(0, 0, 0, 0.3));\n",
              "      fill: #FFFFFF;\n",
              "    }\n",
              "  </style>\n",
              "\n",
              "      <script>\n",
              "        const buttonEl =\n",
              "          document.querySelector('#df-d3218a7b-3a05-477f-bbed-5c02bae1eeaf button.colab-df-convert');\n",
              "        buttonEl.style.display =\n",
              "          google.colab.kernel.accessAllowed ? 'block' : 'none';\n",
              "\n",
              "        async function convertToInteractive(key) {\n",
              "          const element = document.querySelector('#df-d3218a7b-3a05-477f-bbed-5c02bae1eeaf');\n",
              "          const dataTable =\n",
              "            await google.colab.kernel.invokeFunction('convertToInteractive',\n",
              "                                                     [key], {});\n",
              "          if (!dataTable) return;\n",
              "\n",
              "          const docLinkHtml = 'Like what you see? Visit the ' +\n",
              "            '<a target=\"_blank\" href=https://colab.research.google.com/notebooks/data_table.ipynb>data table notebook</a>'\n",
              "            + ' to learn more about interactive tables.';\n",
              "          element.innerHTML = '';\n",
              "          dataTable['output_type'] = 'display_data';\n",
              "          await google.colab.output.renderOutput(dataTable, element);\n",
              "          const docLink = document.createElement('div');\n",
              "          docLink.innerHTML = docLinkHtml;\n",
              "          element.appendChild(docLink);\n",
              "        }\n",
              "      </script>\n",
              "    </div>\n",
              "  </div>\n",
              "  "
            ]
          },
          "metadata": {},
          "execution_count": 141
        }
      ]
    },
    {
      "cell_type": "code",
      "source": [
        "sns.lineplot(data = df_counts, x = 'dt', y = 'sentiment_not bullish')"
      ],
      "metadata": {
        "colab": {
          "base_uri": "https://localhost:8080/",
          "height": 296
        },
        "id": "3nR-7O4UmWQu",
        "outputId": "12eca165-6b5f-4121-fb17-9a7a2c81b39e"
      },
      "execution_count": null,
      "outputs": [
        {
          "output_type": "execute_result",
          "data": {
            "text/plain": [
              "<matplotlib.axes._subplots.AxesSubplot at 0x7fd18f039890>"
            ]
          },
          "metadata": {},
          "execution_count": 145
        },
        {
          "output_type": "display_data",
          "data": {
            "text/plain": [
              "<Figure size 432x288 with 1 Axes>"
            ],
            "image/png": "[encoded data removed]"
          },
          "metadata": {
            "needs_background": "light"
          }
        }
      ]
    },
    {
      "cell_type": "markdown",
      "source": [
        "# Clustering"
      ],
      "metadata": {
        "id": "Y5HF9CloEuUG"
      }
    },
    {
      "cell_type": "markdown",
      "source": [
        "## MeanShift"
      ],
      "metadata": {
        "id": "VmRhKqjRE9WF"
      }
    },
    {
      "cell_type": "code",
      "source": [
        "from sklearn.cluster import MeanShift\n",
        "from sklearn.feature_extraction.text import TfidfVectorizer\n",
        "from sklearn.base import TransformerMixin\n",
        "\n",
        "class DenseTransformer(TransformerMixin):\n",
        "    def fit(self, X, y=None, **fit_params):\n",
        "        return self\n",
        "    def transform(self, X, y=None, **fit_params):\n",
        "        return X.todense()\n",
        "\n",
        "text_clf = Pipeline([\n",
        "     ('tfidf', TfidfVectorizer()),\n",
        "     ('to_dense', DenseTransformer()),\n",
        "     ('meanshift', MeanShift(n_jobs = -1)),\n",
        "])\n",
        "\n",
        "text_clf.fit(X_train)\n",
        "print(text_clf[-1].labels_[:1000])"
      ],
      "metadata": {
        "colab": {
          "base_uri": "https://localhost:8080/"
        },
        "id": "dXp-3ookfeid",
        "outputId": "4ba2de20-72e3-4569-979c-26ed44be642f"
      },
      "execution_count": null,
      "outputs": [
        {
          "output_type": "stream",
          "name": "stderr",
          "text": [
            "/usr/local/lib/python3.7/dist-packages/sklearn/utils/validation.py:598: FutureWarning: np.matrix usage is deprecated in 1.0 and will raise a TypeError in 1.2. Please convert to a numpy array with np.asarray. For more information see: https://numpy.org/doc/stable/reference/generated/numpy.matrix.html\n",
            "  FutureWarning,\n"
          ]
        },
        {
          "output_type": "stream",
          "name": "stdout",
          "text": [
            "[0 0 0 0 0 0 0 0 0 0 0 0 0 0 0 0 0 0 0 0 0 0 0 0 0 0 0 0 0 0 0 0 0 0 0 0 0\n",
            " 0 0 0 0 0 0 0 0 0 0 0 0 0 0 0 0 0 0 0 0 0 0 0 0 0 0 0 0 0 0 0 0 0 0 0 0 0\n",
            " 0 0 0 0 0 0 0 0 0 0 0 0 0 0 0 0 0 0 0 0 0 0 0 0 0 0 0 0 0 0 0 0 0 0 0 0 0\n",
            " 0 0 0 0 0 0 0 0 0 0 0 0 0 0 0 0 0 0 0 0 0 0 0 0 0 0 0 0 0 0 0 0 0 0 0 0 0\n",
            " 0 0 0 0 0 0 0 0 0 0 0 0 0 0 0 0 0 0 0 0 0 0 0 0 0 0 0 0 0 0 0 0 0 0 0 0 0\n",
            " 0 0 0 0 0 0 0 0 0 0 0 0 0 0 0 0 0 0 0 0 0 0 0 0 0 0 0 0 0 0 0 0 0 0 0 0 0\n",
            " 0 0 0 0 0 0 0 0 0 0 0 0 0 0 0 0 0 0 0 0 0 0 0 0 0 0 0 0 0 0 0 0 0 0 0 0 0\n",
            " 0 0 0 0 0 0 0 0 0 0 0 0 0 0 0 0 0 0 0 0 0 0 0 0 0 0 0 0 0 0 0 0 0 0 0 0 0\n",
            " 0 0 0 0 0 0 0 0 0 0 0 0 0 0 0 0 0 0 0 0 0 0 0 0 0 0 0 0 0 0 0 0 0 0 0 0 0\n",
            " 0 0 0 0 0 0 0 0 0 0 0 0 0 0 0 0 0 0 0 0 0 0 0 0 0 0 0 0 0 0 0 0 0 0 0 0 0\n",
            " 0 0 0 0 0 0 0 0 0 0 0 0 0 0 0 0 0 0 0 0 0 0 0 0 0 0 0 0 0 0 0 0 0 0 0 0 0\n",
            " 0 0 0 0 0 0 0 0 0 0 0 0 0 0 0 0 0 0 0 0 0 0 0 0 0 0 0 0 0 0 0 0 0 0 0 0 0\n",
            " 0 0 0 0 0 0 0 0 0 0 0 0 0 0 0 0 0 0 0 0 0 0 0 0 0 0 0 0 0 0 0 0 0 0 0 0 0\n",
            " 0 0 0 0 0 0 0 0 0 0 0 0 0 0 0 0 0 0 0 0 0 0 0 0 0 0 0 0 0 0 0 0 0 0 0 0 0\n",
            " 0 0 0 0 0 0 0 0 0 0 0 0 0 0 0 0 0 0 0 0 0 0 0 0 0 0 0 0 0 0 0 0 0 0 0 0 0\n",
            " 0 0 0 0 0 0 0 0 0 0 0 0 0 0 0 0 0 0 0 0 0 0 0 0 0 0 0 0 0 0 0 0 0 0 0 0 0\n",
            " 0 0 0 0 0 0 0 0 0 0 0 0 0 0 0 0 0 0 0 0 0 0 0 0 0 0 0 0 0 0 0 0 0 0 0 0 0\n",
            " 0 0 0 0 0 0 0 0 0 0 0 0 0 0 0 0 0 0 0 0 0 0 0 0 0 0 0 0 0 0 0 0 0 0 0 0 0\n",
            " 0 0 0 0 0 0 0 0 0 0 0 0 0 0 0 0 0 0 0 0 0 0 0 0 0 0 0 0 0 0 0 0 0 0 0 0 0\n",
            " 0 0 0 0 0 0 0 0 0 0 0 0 0 0 0 0 0 0 0 0 0 0 0 0 0 0 0 0 0 0 0 0 0 0 0 0 0\n",
            " 0 0 0 0 0 0 0 0 0 0 0 0 0 0 0 0 0 0 0 0 0 0 0 0 0 0 0 0 0 0 0 0 0 0 0 0 0\n",
            " 0 0 0 0 0 0 0 0 0 0 0 0 0 0 0 0 0 0 0 0 0 0 0 0 0 0 0 0 0 0 0 0 0 0 0 0 0\n",
            " 0 0 0 0 0 0 0 0 0 0 0 0 0 0 0 0 0 0 0 0 0 0 0 0 0 0 0 0 0 0 0 0 0 0 0 0 0\n",
            " 0 0 0 0 0 0 0 0 0 0 0 0 0 0 0 0 0 0 0 0 0 0 0 0 0 0 0 0 0 0 0 0 0 0 0 0 0\n",
            " 0 0 0 0 0 0 0 0 0 0 0 0 0 0 0 0 0 0 0 0 0 0 0 0 0 0 0 0 0 0 0 0 0 0 0 0 0\n",
            " 0 0 0 0 0 0 0 0 0 0 0 0 0 0 0 0 0 0 0 0 0 0 0 0 0 0 0 0 0 0 0 0 0 0 0 0 0\n",
            " 0 0 0 0 0 0 0 0 0 0 0 0 0 0 0 0 0 0 0 0 0 0 0 0 0 0 0 0 0 0 0 0 0 0 0 0 0\n",
            " 0]\n"
          ]
        }
      ]
    },
    {
      "cell_type": "code",
      "source": [
        "class DenseTransformer(TransformerMixin):\n",
        "    def fit(self, X, y=None, **fit_params):\n",
        "        return self\n",
        "    def transform(self, X, y=None, **fit_params):\n",
        "        return X.todense()\n",
        "\n",
        "vect = CountVectorizer(ngram_range=(1, 2))\n",
        "tfidf = TfidfTransformer()\n",
        "dense = DenseTransformer()\n",
        "\n",
        "count_data = vect.fit_transform(X_train)\n",
        "print(count_data)\n",
        "tfidf_data = tfidf.fit_transform(count_data)\n",
        "print(tfidf_data)\n",
        "dense_data = dense.fit_transform(tfidf_data)\n",
        "print(dense_data)"
      ],
      "metadata": {
        "id": "IQauHYNVFcoL"
      },
      "execution_count": null,
      "outputs": []
    },
    {
      "cell_type": "code",
      "source": [
        "vect = TfidfVectorizer()\n",
        "dense = DenseTransformer()\n",
        "\n",
        "tfidf_data = vect.fit_transform(X_train)\n",
        "print(tfidf_data)\n",
        "dense_data = dense.fit_transform(tfidf_data)\n",
        "print(dense_data)"
      ],
      "metadata": {
        "colab": {
          "base_uri": "https://localhost:8080/"
        },
        "id": "-qGSvkAXJ7SP",
        "outputId": "a6ce99e1-7c38-4e59-eb16-2f7bc90f135d"
      },
      "execution_count": null,
      "outputs": [
        {
          "output_type": "stream",
          "name": "stdout",
          "text": [
            "  (0, 3727)\t0.07218545105607359\n",
            "  (0, 5310)\t0.07218545105607359\n",
            "  (0, 5737)\t0.043448900551276336\n",
            "  (0, 5752)\t0.043448900551276336\n",
            "  (0, 1703)\t0.04240138900846483\n",
            "  (0, 7711)\t0.02379162448783656\n",
            "  (0, 6951)\t0.025097388580644357\n",
            "  (0, 6228)\t0.04834518261180226\n",
            "  (0, 4183)\t0.02426142042612563\n",
            "  (0, 2683)\t0.036285112394826\n",
            "  (0, 7230)\t0.07218545105607359\n",
            "  (0, 3531)\t0.052152954456319095\n",
            "  (0, 7716)\t0.04707424224693163\n",
            "  (0, 3672)\t0.04929277206567994\n",
            "  (0, 6988)\t0.0543714842750674\n",
            "  (0, 6509)\t0.0543714842750674\n",
            "  (0, 7703)\t0.07218545105607359\n",
            "  (0, 973)\t0.06815425038949763\n",
            "  (0, 6808)\t0.04748010121785229\n",
            "  (0, 2038)\t0.05840268494164336\n",
            "  (0, 1590)\t0.06529406799885847\n",
            "  (0, 5475)\t0.07218545105607359\n",
            "  (0, 4401)\t0.050908561942099764\n",
            "  (0, 33)\t0.041453799554587153\n",
            "  (0, 6527)\t0.04559862619119354\n",
            "  :\t:\n",
            "  (1045, 7526)\t0.1642654224891574\n",
            "  (1045, 4512)\t0.14352855033210418\n",
            "  (1045, 890)\t0.19838528671802586\n",
            "  (1045, 2759)\t0.17463632271507953\n",
            "  (1045, 7637)\t0.37756232209089335\n",
            "  (1045, 4329)\t0.1546217001187198\n",
            "  (1045, 7100)\t0.1670990132099282\n",
            "  (1045, 2305)\t0.15758015618731686\n",
            "  (1045, 3651)\t0.12308688340801978\n",
            "  (1045, 6965)\t0.1375655335909571\n",
            "  (1045, 2097)\t0.18397748814426212\n",
            "  (1045, 5379)\t0.18107386893443617\n",
            "  (1045, 6981)\t0.08624159665714058\n",
            "  (1045, 4191)\t0.116102952073948\n",
            "  (1045, 7704)\t0.09099662780261013\n",
            "  (1045, 1370)\t0.12061797677708222\n",
            "  (1045, 4992)\t0.23830070934308306\n",
            "  (1045, 6242)\t0.15121251351762874\n",
            "  (1045, 7474)\t0.12245491923664717\n",
            "  (1045, 4174)\t0.08189021999122949\n",
            "  (1045, 3998)\t0.08348038897782471\n",
            "  (1045, 6953)\t0.19756676419508798\n",
            "  (1045, 1185)\t0.1163703997280668\n",
            "  (1045, 1084)\t0.07629824004124751\n",
            "  (1045, 7051)\t0.06917079946109873\n",
            "[[0.         0.         0.         ... 0.13058814 0.         0.        ]\n",
            " [0.         0.         0.         ... 0.         0.         0.        ]\n",
            " [0.         0.         0.         ... 0.         0.         0.        ]\n",
            " ...\n",
            " [0.         0.         0.         ... 0.         0.         0.        ]\n",
            " [0.         0.         0.         ... 0.         0.         0.        ]\n",
            " [0.         0.         0.         ... 0.         0.         0.        ]]\n"
          ]
        }
      ]
    },
    {
      "cell_type": "markdown",
      "source": [
        "## K-Means"
      ],
      "metadata": {
        "id": "jbDgG-WdFCD3"
      }
    },
    {
      "cell_type": "code",
      "source": [
        "from sklearn.cluster import MeanShift, KMeans\n",
        "from sklearn.feature_extraction.text import TfidfVectorizer\n",
        "from sklearn.base import TransformerMixin\n",
        "\n",
        "class DenseTransformer(TransformerMixin):\n",
        "    def fit(self, X, y=None, **fit_params):\n",
        "        return self\n",
        "    def transform(self, X, y=None, **fit_params):\n",
        "        return X.todense()\n",
        "\n",
        "text_clf = Pipeline([\n",
        "     ('vect', CountVectorizer(ngram_range=(1,2))),\n",
        "     ('tfidf', TfidfTransformer()),\n",
        "     ('km', KMeans(n_clusters = 4, random_state = 2))\n",
        "     #('to_dense', DenseTransformer()),\n",
        "     #('meanshift', MeanShift(n_jobs = -1)),\n",
        "])\n",
        "\n",
        "text_clf.fit(X_train)\n",
        "predictions = text_clf.predict(X_train)\n",
        "for i in range(40):\n",
        "  print(X_train[i], predictions[i])"
      ],
      "metadata": {
        "id": "UwzRyv0ZPn_N"
      },
      "execution_count": null,
      "outputs": []
    },
    {
      "cell_type": "markdown",
      "source": [
        "## Embedding"
      ],
      "metadata": {
        "id": "3UyoBmGMTA7V"
      }
    },
    {
      "cell_type": "code",
      "source": [
        "!pip install umap-learn[plot]\n",
        "!pip install holoviews\n",
        "!pip install -U ipykernel"
      ],
      "metadata": {
        "id": "YxsL0FqdT73C"
      },
      "execution_count": null,
      "outputs": []
    },
    {
      "cell_type": "code",
      "source": [
        "import umap\n",
        "import umap.plot"
      ],
      "metadata": {
        "id": "c42iQgpsVzJL"
      },
      "execution_count": null,
      "outputs": []
    },
    {
      "cell_type": "code",
      "source": [
        "X = df.text\n",
        "X = np.array(X).flatten()\n",
        "y = df.sentiment"
      ],
      "metadata": {
        "id": "DYFiEY_oWr4K"
      },
      "execution_count": null,
      "outputs": []
    },
    {
      "cell_type": "code",
      "source": [
        "vect = TfidfVectorizer()\n",
        "\n",
        "tfidf_data = vect.fit_transform(X)\n",
        "embedding = umap.UMAP(n_components = 2, metric = 'cosine').fit(tfidf_data)"
      ],
      "metadata": {
        "id": "Ji-YjzSpS_zI"
      },
      "execution_count": null,
      "outputs": []
    },
    {
      "cell_type": "code",
      "source": [
        "u = umap.plot.points(embedding, background='black')#, labels = y, background='black')"
      ],
      "metadata": {
        "id": "J2tPpowmYR0F",
        "colab": {
          "base_uri": "https://localhost:8080/",
          "height": 638
        },
        "outputId": "3d7c1911-878f-4dcf-9b26-ada7d10ec0d5"
      },
      "execution_count": null,
      "outputs": [
        {
          "output_type": "display_data",
          "data": {
            "text/plain": [
              "<Figure size 800x800 with 1 Axes>"
            ],
            "image/png": "[encoded data removed]"
          },
          "metadata": {}
        }
      ]
    },
    {
      "cell_type": "code",
      "source": [
        "u = umap.plot.points(embedding)"
      ],
      "metadata": {
        "colab": {
          "base_uri": "https://localhost:8080/",
          "height": 675
        },
        "id": "T4mp4L3beiwA",
        "outputId": "d6652a1e-00f5-4995-e1a7-9dcd65f47bfa"
      },
      "execution_count": null,
      "outputs": [
        {
          "output_type": "stream",
          "name": "stderr",
          "text": [
            "*c* argument looks like a single numeric RGB or RGBA sequence, which should be avoided as value-mapping will have precedence in case its length matches with *x* & *y*.  Please use the *color* keyword-argument or provide a 2-D array with a single row if you intend to specify the same RGB or RGBA value for all points.\n"
          ]
        },
        {
          "output_type": "display_data",
          "data": {
            "text/plain": [
              "<Figure size 800x800 with 1 Axes>"
            ],
            "image/png": "[encoded data removed]"
          },
          "metadata": {}
        }
      ]
    },
    {
      "cell_type": "code",
      "source": [
        ""
      ],
      "metadata": {
        "id": "KWHo5n98iYqx"
      },
      "execution_count": null,
      "outputs": []
    }
  ]
}